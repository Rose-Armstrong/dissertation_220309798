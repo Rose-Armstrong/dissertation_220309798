{
 "cells": [
  {
   "cell_type": "code",
   "execution_count": 1,
   "id": "f1f55ace",
   "metadata": {},
   "outputs": [],
   "source": [
    "#Importing required libraries\n",
    "import numpy as np\n",
    "import pandas as pd\n",
    "from sklearn.tree import DecisionTreeClassifier\n",
    "from sklearn.metrics import accuracy_score, confusion_matrix, classification_report\n",
    "import matplotlib.pyplot as plt"
   ]
  },
  {
   "cell_type": "code",
   "execution_count": 4,
   "id": "1e7d7571",
   "metadata": {},
   "outputs": [
    {
     "data": {
      "image/png": "[encoded data removed]",
      "text/plain": [
       "<Figure size 576x432 with 1 Axes>"
      ]
     },
     "metadata": {
      "needs_background": "light"
     },
     "output_type": "display_data"
    },
    {
     "name": "stdout",
     "output_type": "stream",
     "text": [
      "CSV file saved: ising_model_configuration_monte.csv\n"
     ]
    }
   ],
   "source": [
    "# Data simulation on 2D square Ising model\n",
    "def initial_configuration(size): # Function for initial configurations\n",
    "    return np.random.choice([-1, 1], size=(size, size))\n",
    "def metropolis_step(config, beta): # Function for metropolis algorithm\n",
    "    size = config.shape[0]\n",
    "    i = np.random.randint(size)\n",
    "    j = np.random.randint(size)\n",
    "    dE = 2 * config[i, j] * (\n",
    "        config[(i + 1) % size, j] +\n",
    "        config[i - 1, j] +\n",
    "        config[i, (j + 1) % size] +\n",
    "        config[i, j - 1]\n",
    "    )\n",
    "    if dE < 0 or np.random.rand() < np.exp(-beta * dE):\n",
    "        config[i, j] *= -1\n",
    "def calculate_magnetization(config): # Function to compute magentisation\n",
    "    return abs(np.sum(config))\n",
    "def monte_carlo_simulation(size, num_steps, temperature): #Function for simulation\n",
    "    config = initial_configuration(size)\n",
    "    beta = 1.0 / temperature\n",
    "    magnetization_data = []\n",
    "    for _ in range(num_steps):\n",
    "        metropolis_step(config, beta)\n",
    "        magnetization = calculate_magnetization(config)\n",
    "        magnetization_data.append(magnetization)    \n",
    "    return magnetization_data\n",
    "# Parameters\n",
    "size = 10\n",
    "num_steps = 49000\n",
    "temperatures = np.linspace(0.5, 4.0, 50)\n",
    "all_configurations = []\n",
    "average_magnetizations_per_spin = []\n",
    "for temperature in temperatures:\n",
    "    magnetization_data = monte_carlo_simulation(size, num_steps, temperature)\n",
    "    average_magnetization_per_spin = np.mean(magnetization_data) / (size ** 2)  # Dividing by total number of spins\n",
    "    average_magnetizations_per_spin.append(average_magnetization_per_spin)\n",
    "    config = initial_configuration(size)  # Get the lattice configuration\n",
    "    config_data = [(temperature,np.copy(config))]  # Create a list to store configurations\n",
    "    all_configurations.append(config_data)\n",
    "    for step in range(num_steps):\n",
    "        metropolis_step(config, 1.0 / temperature)\n",
    "        if step % 100 == 0:\n",
    "            config_data.append((temperature,np.copy(config))) \n",
    "# Create line graph\n",
    "plt.figure(figsize=(8, 6))\n",
    "plt.plot(temperatures, average_magnetizations_per_spin, marker='o', linestyle='-', color='blue')\n",
    "plt.xlabel('Temperature')\n",
    "plt.ylabel('Average Magnetization')\n",
    "plt.title('Average Magnetization vs Temperature in 2D Ising Model')\n",
    "plt.grid(True)\n",
    "plt.show()\n",
    "# Save the all_configurations array to a CSV file\n",
    "csv_filename = \"ising_model_configuration_monte.csv\"\n",
    "threshold = 0.5\n",
    "with open(csv_filename, \"w\") as csv_file:\n",
    "    for config_data in all_configurations:\n",
    "        temperature = config_data[0][0]\n",
    "        for temperature, config in config_data:\n",
    "            flattened_config = config.flatten()\n",
    "            magnetization = abs(np.sum(config)) / config.size  # Calculate and take absolute value of magnetization per spin\n",
    "            label = \"ferromagnetic\" if magnetization >= threshold else \"paramagnetic\"\n",
    "            csv_file.write(f\"{temperature},{','.join(map(str, flattened_config))},{label}\\n\")\n",
    "print(\"CSV file saved:\", csv_filename)"
   ]
  },
  {
   "cell_type": "code",
   "execution_count": 5,
   "id": "38e6299a",
   "metadata": {},
   "outputs": [],
   "source": [
    "# Load the labeled data with specified column names\n",
    "data_df = pd.read_csv(\"ising_model_configuration_monte.csv\", header=None)\n",
    "temperature_data = data_df.iloc[:, 0]\n",
    "label_data = data_df.iloc[:, -1]\n",
    "remaining_columns = data_df.iloc[:, 1:-1]  # Exclude the first and last columns\n",
    "flattened_configuration = remaining_columns.apply(lambda row: ', '.join(row.astype(str)), axis=1)\n",
    "# Create the DataFrame with specified column names\n",
    "data = pd.DataFrame({'Temperature': temperature_data, 'Configuration': flattened_configuration, 'Label': label_data})"
   ]
  },
  {
   "cell_type": "code",
   "execution_count": 6,
   "id": "1da692a9",
   "metadata": {},
   "outputs": [
    {
     "name": "stdout",
     "output_type": "stream",
     "text": [
      "       Temperature                                      Configuration  \\\n",
      "0              0.5  -1, 1, -1, 1, -1, 1, -1, -1, -1, -1, 1, -1, 1,...   \n",
      "1              0.5  -1, 1, -1, 1, -1, 1, -1, -1, -1, -1, 1, -1, 1,...   \n",
      "2              0.5  -1, -1, 1, 1, 1, -1, 1, -1, -1, -1, 1, 1, 1, -...   \n",
      "3              0.5  -1, -1, 1, 1, -1, -1, 1, -1, -1, -1, 1, 1, 1, ...   \n",
      "4              0.5  -1, 1, 1, 1, -1, -1, -1, -1, -1, -1, 1, 1, 1, ...   \n",
      "...            ...                                                ...   \n",
      "24545          4.0  1, -1, -1, 1, -1, -1, -1, -1, -1, -1, 1, 1, 1,...   \n",
      "24546          4.0  -1, -1, -1, 1, -1, -1, -1, -1, -1, -1, 1, -1, ...   \n",
      "24547          4.0  1, -1, 1, -1, -1, -1, -1, 1, -1, 1, 1, -1, -1,...   \n",
      "24548          4.0  -1, -1, 1, -1, -1, -1, -1, -1, -1, -1, -1, -1,...   \n",
      "24549          4.0  -1, 1, 1, 1, -1, -1, 1, -1, -1, -1, -1, -1, -1...   \n",
      "\n",
      "              Label  \n",
      "0      paramagnetic  \n",
      "1      paramagnetic  \n",
      "2      paramagnetic  \n",
      "3      paramagnetic  \n",
      "4      paramagnetic  \n",
      "...             ...  \n",
      "24545  paramagnetic  \n",
      "24546  paramagnetic  \n",
      "24547  paramagnetic  \n",
      "24548  paramagnetic  \n",
      "24549  paramagnetic  \n",
      "\n",
      "[24550 rows x 3 columns]\n"
     ]
    }
   ],
   "source": [
    "print(data)"
   ]
  },
  {
   "cell_type": "code",
   "execution_count": 7,
   "id": "876ddd7a",
   "metadata": {},
   "outputs": [],
   "source": [
    "# Define the temperature ranges\n",
    "temperature_ranges = [(0.5, 1.5), (3.0, 4.0)]\n",
    "prediction_temp_range = np.linspace(0.5, 4.0, 50)"
   ]
  },
  {
   "cell_type": "code",
   "execution_count": 8,
   "id": "adb0eca2",
   "metadata": {},
   "outputs": [
    {
     "data": {
      "text/plain": [
       "DecisionTreeClassifier(random_state=42)"
      ]
     },
     "execution_count": 8,
     "metadata": {},
     "output_type": "execute_result"
    }
   ],
   "source": [
    "# Select rows within the specified temperature ranges\n",
    "selected_data = data[data['Temperature'].between(temperature_ranges[0][0], temperature_ranges[0][1]) |\n",
    "                     data['Temperature'].between(temperature_ranges[1][0], temperature_ranges[1][1])]\n",
    "# Extract features (configurations) and labels\n",
    "X_train = selected_data['Configuration'].apply(lambda x: list(map(int, x.split(',')))).tolist()\n",
    "y_train = selected_data['Label']\n",
    "# Create a Decision Tree Classifier\n",
    "clf = DecisionTreeClassifier(random_state=42)\n",
    "# Train the classifier on the training data\n",
    "clf.fit(X_train, y_train)"
   ]
  },
  {
   "cell_type": "code",
   "execution_count": 9,
   "id": "448e12e0",
   "metadata": {},
   "outputs": [],
   "source": [
    "# Creation of Testing dataset\n",
    "# Initialize variables to track the phase transition\n",
    "all_configurations_test = []\n",
    "# Simulate the Ising model and predict at different temperatures\n",
    "for temperature in prediction_temp_range:\n",
    "    # Perform Monte Carlo simulation to obtain a configuration\n",
    "    num_steps = 49000  # You can adjust the number of steps as needed\n",
    "    config_2 = initial_configuration(size)  # Get the lattice configuration\n",
    "    config_data_2 = [(temperature,np.copy(config_2))]  # Create a list to store configurations\n",
    "    all_configurations_test.append(config_data_2)    \n",
    "    for step in range(num_steps):\n",
    "        metropolis_step(config_2, 1.0 / temperature)     \n",
    "        config_data_2.append((temperature,np.copy(config_2))) "
   ]
  },
  {
   "cell_type": "code",
   "execution_count": null,
   "id": "52940262",
   "metadata": {},
   "outputs": [],
   "source": [
    "# to print all the testing data\n",
    "# print(all_configurations_test)"
   ]
  },
  {
   "cell_type": "code",
   "execution_count": 10,
   "id": "bf8e1909",
   "metadata": {},
   "outputs": [],
   "source": [
    "# Initialise variables\n",
    "configurations_to_predict_combo = []\n",
    "configurations_to_predict = []\n",
    "threshold_mag = 0.5\n",
    "true_labels = []\n",
    "# Looping through the testing data\n",
    "for config_data_2 in all_configurations_test:\n",
    "        temperature = config_data_2[0][0]\n",
    "        for temperature, config_2 in config_data_2:\n",
    "            flattened_config_2 = config_2.flatten() \n",
    "            magnetization_test = abs(np.sum(config_2)) / config_2.size  # Calculate and take absolute value of magnetization per spin\n",
    "            labels = 'ferromagnetic' if magnetization_test >= threshold_mag else 'paramagnetic'\n",
    "            true_labels.append(labels)\n",
    "            temperature_and_config = (temperature, flattened_config_2)\n",
    "            configurations_to_predict.append(flattened_config_2)    # Storing the configurations for prediction\n",
    "            configurations_to_predict_combo.append(temperature_and_config)  # Storing the temperature with the configuration"
   ]
  },
  {
   "cell_type": "code",
   "execution_count": 11,
   "id": "bda8b40b",
   "metadata": {},
   "outputs": [
    {
     "name": "stdout",
     "output_type": "stream",
     "text": [
      "Size of Data to be predicted:  2450050\n",
      "Size of Data to be predicted combined with Temperature:  2450050\n"
     ]
    }
   ],
   "source": [
    "print(\"Size of Data to be predicted: \",len(configurations_to_predict))\n",
    "print(\"Size of Data to be predicted combined with Temperature: \", len(configurations_to_predict_combo))"
   ]
  },
  {
   "cell_type": "code",
   "execution_count": 12,
   "id": "fc3f84e9",
   "metadata": {},
   "outputs": [
    {
     "name": "stdout",
     "output_type": "stream",
     "text": [
      "Accuracy: 0.9044611334462562\n",
      "Confusion Matrix:\n",
      " [[1297319  167209]\n",
      " [  66866  918656]]\n",
      "Classification Report:\n",
      "                precision    recall  f1-score   support\n",
      "\n",
      "ferromagnetic       0.95      0.89      0.92   1464528\n",
      " paramagnetic       0.85      0.93      0.89    985522\n",
      "\n",
      "     accuracy                           0.90   2450050\n",
      "    macro avg       0.90      0.91      0.90   2450050\n",
      " weighted avg       0.91      0.90      0.91   2450050\n",
      "\n"
     ]
    }
   ],
   "source": [
    "# Predict labels using your classifier\n",
    "predicted_labels = clf.predict(configurations_to_predict)\n",
    "# Calculate accuracy\n",
    "accuracy = accuracy_score(true_labels, predicted_labels)\n",
    "print(\"Accuracy:\", accuracy)\n",
    "# Generate the confusion matrix\n",
    "conf_matrix = confusion_matrix(true_labels, predicted_labels)\n",
    "print(\"Confusion Matrix:\\n\", conf_matrix)\n",
    "# Create a classification report\n",
    "class_report = classification_report(true_labels, predicted_labels)\n",
    "print(\"Classification Report:\\n\", class_report)"
   ]
  },
  {
   "cell_type": "code",
   "execution_count": 13,
   "id": "f418a71b",
   "metadata": {},
   "outputs": [],
   "source": [
    "# Using the classifier model for prediction using function predict_proba\n",
    "predictions_probs = []\n",
    "predictions_probs = clf.predict_proba(configurations_to_predict) # Gives the one hot vector of being ferromagnetic in nature i.e: most probable class"
   ]
  },
  {
   "cell_type": "code",
   "execution_count": 14,
   "id": "3bada564",
   "metadata": {},
   "outputs": [
    {
     "name": "stdout",
     "output_type": "stream",
     "text": [
      "[[0. 1.]\n",
      " [0. 1.]\n",
      " [0. 1.]\n",
      " ...\n",
      " [0. 1.]\n",
      " [0. 1.]\n",
      " [0. 1.]]\n",
      "2450050\n"
     ]
    }
   ],
   "source": [
    "print(predictions_probs)\n",
    "print(len(predictions_probs))"
   ]
  },
  {
   "cell_type": "code",
   "execution_count": 15,
   "id": "bb498b85",
   "metadata": {},
   "outputs": [],
   "source": [
    "# Matching the predictions with the temperatures\n",
    "matched_data = []\n",
    "for temperature, prediction_prob in zip([item[0] for item in configurations_to_predict_combo], predictions_probs):\n",
    "    matched_data.append((temperature, prediction_prob))\n",
    "\n",
    "    "
   ]
  },
  {
   "cell_type": "code",
   "execution_count": 16,
   "id": "ce292081",
   "metadata": {},
   "outputs": [
    {
     "name": "stdout",
     "output_type": "stream",
     "text": [
      "2450050\n"
     ]
    }
   ],
   "source": [
    "print(len(matched_data))"
   ]
  },
  {
   "cell_type": "code",
   "execution_count": 17,
   "id": "f54f9e4f",
   "metadata": {
    "scrolled": true
   },
   "outputs": [
    {
     "name": "stdout",
     "output_type": "stream",
     "text": [
      "{0.5: 48582, 0.5714285714285714: 48152, 0.6428571428571428: 48447, 0.7142857142857143: 47798, 0.7857142857142857: 48605, 0.8571428571428571: 48472, 0.9285714285714286: 48297, 1.0: 48426, 1.0714285714285714: 48204, 1.1428571428571428: 48457, 1.2142857142857142: 46109, 1.2857142857142856: 48247, 1.3571428571428572: 44268, 1.4285714285714284: 46809, 1.5: 43797, 1.5714285714285714: 46966, 1.6428571428571428: 47149, 1.7142857142857142: 48167, 1.7857142857142856: 41571, 1.857142857142857: 46843, 1.9285714285714284: 45823, 2.0: 42323, 2.071428571428571: 41444, 2.142857142857143: 35050, 2.2142857142857144: 31182, 2.2857142857142856: 33321, 2.3571428571428568: 30903, 2.4285714285714284: 27076, 2.5: 15951, 2.571428571428571: 12305, 2.642857142857143: 9337, 2.714285714285714: 13682, 2.7857142857142856: 7524, 2.857142857142857: 9361, 2.9285714285714284: 6080, 3.0: 5936, 3.071428571428571: 4622, 3.142857142857143: 5262, 3.214285714285714: 4595, 3.2857142857142856: 4790, 3.3571428571428568: 3844, 3.4285714285714284: 3905, 3.5: 3749, 3.571428571428571: 3465, 3.642857142857143: 3529, 3.714285714285714: 2865, 3.7857142857142856: 2600, 3.8571428571428568: 3149, 3.9285714285714284: 4055, 4.0: 3091}\n"
     ]
    }
   ],
   "source": [
    "# Gathering the counts of ferromagnetic nature for each temperature\n",
    "ferromagnetic_counts = {}  # Initialize a dictionary to store counts\n",
    "# Iterate through matched data and count \"ferromagnetic\" predictions\n",
    "for temperature, prediction_prob in matched_data:\n",
    "    # Check if the prediction is \"ferromagnetic\" (considering \"ferromagnetic\" is the positive class)\n",
    "    is_ferromagnetic = prediction_prob.argmax()  # Get the index of the maximum probability\n",
    "    if is_ferromagnetic == 0:\n",
    "        # If the prediction is \"ferromagnetic,\" increment the count for the corresponding temperature\n",
    "        if temperature not in ferromagnetic_counts:\n",
    "            ferromagnetic_counts[temperature] = 0\n",
    "        ferromagnetic_counts[temperature] += 1\n",
    "print(ferromagnetic_counts)\n"
   ]
  },
  {
   "cell_type": "code",
   "execution_count": 18,
   "id": "533ef8e7",
   "metadata": {},
   "outputs": [
    {
     "data": {
      "image/png": "[encoded data removed]",
      "text/plain": [
       "<Figure size 576x432 with 1 Axes>"
      ]
     },
     "metadata": {
      "needs_background": "light"
     },
     "output_type": "display_data"
    }
   ],
   "source": [
    "# Plotting a graph for temperature againts the number of ferromagnetic counts\n",
    "# Extract temperatures and corresponding ferromagnetic counts from the dictionary\n",
    "temperatures_in_count = list(ferromagnetic_counts.keys())\n",
    "ferromagnetic_counts_values = list(ferromagnetic_counts.values())\n",
    "# Create the plot\n",
    "plt.figure(figsize=(8, 6))\n",
    "plt.plot(temperatures_in_count, ferromagnetic_counts_values, marker='o', linestyle='-', color='blue')\n",
    "plt.xlabel('Temperature')\n",
    "plt.ylabel('Ferromagnetic Count')\n",
    "plt.title('Ferromagnetic Count vs Temperature')\n",
    "plt.grid(True)\n",
    "plt.show()\n"
   ]
  },
  {
   "cell_type": "code",
   "execution_count": 43,
   "id": "ccb871b0",
   "metadata": {},
   "outputs": [
    {
     "name": "stdout",
     "output_type": "stream",
     "text": [
      "The differences in ferromagnetic counts at adjacent temperature point \n",
      " [  -430    295   -649    807   -133   -175    129   -222    253  -2348\n",
      "   2138  -3979   2541  -3012   3169    183   1018  -6596   5272  -1020\n",
      "  -3500   -879  -6394  -3868   2139  -2418  -3827 -11125  -3646  -2968\n",
      "   4345  -6158   1837  -3281   -144  -1314    640   -667    195   -946\n",
      "     61   -156   -284     64   -664   -265    549    906   -964] \n",
      "\n",
      "Intervals based on temperature which has declining nature in ferromagnetic_counts \n",
      " [0.5, 0.5714285714285714, 0.6428571428571428, 0.7142857142857143, 0.7857142857142857]\n",
      "Intervals based on temperature which has declining nature in ferromagnetic_counts \n",
      " [0.6428571428571428, 0.7142857142857143, 0.7857142857142857, 0.8571428571428571, 0.9285714285714286]\n",
      "Intervals based on temperature which has declining nature in ferromagnetic_counts \n",
      " [0.7142857142857143, 0.7857142857142857, 0.8571428571428571, 0.9285714285714286, 1.0]\n",
      "Intervals based on temperature which has declining nature in ferromagnetic_counts \n",
      " [0.8571428571428571, 0.9285714285714286, 1.0, 1.0714285714285714, 1.1428571428571428]\n",
      "Intervals based on temperature which has declining nature in ferromagnetic_counts \n",
      " [1.0, 1.0714285714285714, 1.1428571428571428, 1.2142857142857142, 1.2857142857142856]\n",
      "Intervals based on temperature which has declining nature in ferromagnetic_counts \n",
      " [1.1428571428571428, 1.2142857142857142, 1.2857142857142856, 1.3571428571428572, 1.4285714285714284]\n",
      "Intervals based on temperature which has declining nature in ferromagnetic_counts \n",
      " [1.2857142857142856, 1.3571428571428572, 1.4285714285714284, 1.5, 1.5714285714285714]\n",
      "Intervals based on temperature which has declining nature in ferromagnetic_counts \n",
      " [1.5714285714285714, 1.6428571428571428, 1.7142857142857142, 1.7857142857142856, 1.857142857142857]\n",
      "Intervals based on temperature which has declining nature in ferromagnetic_counts \n",
      " [1.7142857142857142, 1.7857142857142856, 1.857142857142857, 1.9285714285714284, 2.0]\n",
      "Intervals based on temperature which has declining nature in ferromagnetic_counts \n",
      " [1.7857142857142856, 1.857142857142857, 1.9285714285714284, 2.0, 2.071428571428571]\n",
      "Intervals based on temperature which has declining nature in ferromagnetic_counts \n",
      " [1.857142857142857, 1.9285714285714284, 2.0, 2.071428571428571, 2.142857142857143]\n",
      "The differences in interval at which the declining nature is consistent in nearby temperature points \n",
      " [-1020 -3500  -879 -6394 -3868] \n",
      "\n",
      "Intervals based on temperature which has declining nature in ferromagnetic_counts \n",
      " [1.9285714285714284, 2.0, 2.071428571428571, 2.142857142857143, 2.2142857142857144]\n",
      "Intervals based on temperature which has declining nature in ferromagnetic_counts \n",
      " [2.0, 2.071428571428571, 2.142857142857143, 2.2142857142857144, 2.2857142857142856]\n",
      "Intervals based on temperature which has declining nature in ferromagnetic_counts \n",
      " [2.142857142857143, 2.2142857142857144, 2.2857142857142856, 2.3571428571428568, 2.4285714285714284]\n",
      "Intervals based on temperature which has declining nature in ferromagnetic_counts \n",
      " [2.2142857142857144, 2.2857142857142856, 2.3571428571428568, 2.4285714285714284, 2.5]\n",
      "Intervals based on temperature which has declining nature in ferromagnetic_counts \n",
      " [2.2857142857142856, 2.3571428571428568, 2.4285714285714284, 2.5, 2.571428571428571]\n",
      "The differences in interval at which the declining nature is consistent in nearby temperature points \n",
      " [ -2418  -3827 -11125  -3646  -2968] \n",
      "\n",
      "Intervals based on temperature which has declining nature in ferromagnetic_counts \n",
      " [2.3571428571428568, 2.4285714285714284, 2.5, 2.571428571428571, 2.642857142857143]\n",
      "Intervals based on temperature which has declining nature in ferromagnetic_counts \n",
      " [2.4285714285714284, 2.5, 2.571428571428571, 2.642857142857143, 2.714285714285714]\n",
      "Intervals based on temperature which has declining nature in ferromagnetic_counts \n",
      " [2.571428571428571, 2.642857142857143, 2.714285714285714, 2.7857142857142856, 2.857142857142857]\n",
      "Intervals based on temperature which has declining nature in ferromagnetic_counts \n",
      " [2.714285714285714, 2.7857142857142856, 2.857142857142857, 2.9285714285714284, 3.0]\n",
      "Intervals based on temperature which has declining nature in ferromagnetic_counts \n",
      " [2.7857142857142856, 2.857142857142857, 2.9285714285714284, 3.0, 3.071428571428571]\n",
      "Intervals based on temperature which has declining nature in ferromagnetic_counts \n",
      " [2.857142857142857, 2.9285714285714284, 3.0, 3.071428571428571, 3.142857142857143]\n",
      "Intervals based on temperature which has declining nature in ferromagnetic_counts \n",
      " [3.0, 3.071428571428571, 3.142857142857143, 3.214285714285714, 3.2857142857142856]\n",
      "Intervals based on temperature which has declining nature in ferromagnetic_counts \n",
      " [3.142857142857143, 3.214285714285714, 3.2857142857142856, 3.3571428571428568, 3.4285714285714284]\n",
      "Intervals based on temperature which has declining nature in ferromagnetic_counts \n",
      " [3.2857142857142856, 3.3571428571428568, 3.4285714285714284, 3.5, 3.571428571428571]\n",
      "Intervals based on temperature which has declining nature in ferromagnetic_counts \n",
      " [3.3571428571428568, 3.4285714285714284, 3.5, 3.571428571428571, 3.642857142857143]\n",
      "Intervals based on temperature which has declining nature in ferromagnetic_counts \n",
      " [3.5, 3.571428571428571, 3.642857142857143, 3.714285714285714, 3.7857142857142856]\n",
      "Intervals based on temperature which has declining nature in ferromagnetic_counts \n",
      " [3.571428571428571, 3.642857142857143, 3.714285714285714, 3.7857142857142856, 3.8571428571428568]\n",
      "Intervals based on temperature which has declining nature in ferromagnetic_counts \n",
      " [3.7857142857142856, 3.8571428571428568, 3.9285714285714284]\n",
      "[array([-1020, -3500,  -879, -6394, -3868]), array([ -2418,  -3827, -11125,  -3646,  -2968])]\n",
      "\n",
      " The interval at which the declining nature is consistent in nearby temperature points along with the differences \n",
      " [([1.857142857142857, 1.9285714285714284, 2.0, 2.071428571428571, 2.142857142857143], array([-1020, -3500,  -879, -6394, -3868])), ([2.2857142857142856, 2.3571428571428568, 2.4285714285714284, 2.5, 2.571428571428571], array([ -2418,  -3827, -11125,  -3646,  -2968]))] \n",
      "\n",
      "Potential Critical Temperatures: [2.2857, 2.3571, 2.4286, 2.5, 2.5714]\n",
      "Critical temperature estimate: 2.4286\n"
     ]
    },
    {
     "data": {
      "image/png": "[encoded data removed]",
      "text/plain": [
       "<Figure size 576x432 with 1 Axes>"
      ]
     },
     "metadata": {
      "needs_background": "light"
     },
     "output_type": "display_data"
    }
   ],
   "source": [
    "import math\n",
    "# Calculate differences in ferromagnetic counts between adjacent temperatures\n",
    "ferromagnetic_count_diffs = []\n",
    "ferromagnetic_count_diffs = np.diff(ferromagnetic_counts_values)\n",
    "print(\"The differences in ferromagnetic counts at adjacent temperature point \\n\",ferromagnetic_count_diffs,\"\\n\")\n",
    "# Define the threshold for identifying declines \n",
    "threshold = 1  # Adjust as needed\n",
    "# Define the minimum difference criterion (e.g., 3)\n",
    "min_difference_criterion = 2  # Adjust as needed\n",
    "# Initialize variables to track potential critical temperatures\n",
    "differences_in_intervals = []\n",
    "temperature_intervals_with_differences = []\n",
    "# Initialize variables to track the interval with the maximum sum of differences\n",
    "max_sum_interval = None\n",
    "max_sum_value = 0\n",
    "# Iterate through differences in ferromagnetic counts\n",
    "for i in range(1, len(ferromagnetic_count_diffs)):\n",
    "    if ferromagnetic_count_diffs[i] < threshold:\n",
    "        # Identify an interval with decreasing counts\n",
    "        start_index = max(0, i - 2)  # Consider 2 previous temperatures # Adjust as needed\n",
    "        end_index = min(i + 3, len(ferromagnetic_count_diffs))  # Ensure end_index does not exceed array size # Adjust as needed\n",
    "        temperature_interval = temperatures_in_count[start_index:end_index]\n",
    "        print(\"Intervals based on temperature which has declining nature in ferromagnetic_counts \\n\",temperature_interval)\n",
    "        # Check if the counts are consistently decreasing in the interval\n",
    "        if all(ferromagnetic_count_diffs[j] < threshold for j in range(start_index, end_index)):\n",
    "            interval_differences = ferromagnetic_count_diffs[start_index:end_index]\n",
    "            print(\"The differences in interval at which the declining nature is consistent in nearby temperature points \\n\", interval_differences,\"\\n\")\n",
    "    # Calculating the sum of differences for each interval in the threshold\n",
    "            min_difference = abs(sum(interval_differences))\n",
    "        # Check if this interval has the maximum sum of differences\n",
    "            if min_difference > max_sum_value:\n",
    "                max_sum_value = min_difference\n",
    "                max_sum_interval = interval_differences\n",
    "        # Check if the minimum difference within the interval meets the criterion\n",
    "            if min_difference >= min_difference_criterion:\n",
    "                # Store the differences in the intervals\n",
    "                differences_in_intervals.append(interval_differences)\n",
    "                # Store the temperature interval along with differences in the list\n",
    "                temperature_intervals_with_differences.append((temperature_interval, interval_differences))\n",
    "print(differences_in_intervals)\n",
    "print(\"\\n The interval at which the declining nature is consistent in nearby temperature points along with the differences \\n\",temperature_intervals_with_differences,\"\\n\")\n",
    "# Finding the index of intervals at which the maximum difference is seen               \n",
    "max_sum_interval_index = None\n",
    "max_sum_temperature_interval = None\n",
    "for idx, interval in enumerate(differences_in_intervals):\n",
    "    if (interval == max_sum_interval).all():\n",
    "        max_sum_interval_index = idx\n",
    "        break\n",
    "# print(max_sum_interval_index)\n",
    "if max_sum_interval_index is not None:\n",
    "    max_sum_temperature_interval, _ = temperature_intervals_with_differences[max_sum_interval_index]\n",
    "# Output potential critical temperatures\n",
    "max_sum_temperature_interval = list(map(lambda x: round(x, 4), max_sum_temperature_interval))\n",
    "print(\"Potential Critical Temperatures:\", max_sum_temperature_interval)\n",
    "length= len(max_sum_temperature_interval)\n",
    "center_index = (length - 1) // 2  \n",
    "center_value = max_sum_temperature_interval[center_index]\n",
    "print(\"Critical temperature estimate:\", center_value)\n",
    "# Create the plot\n",
    "plt.figure(figsize=(8, 6))\n",
    "plt.plot(temperatures_in_count, ferromagnetic_counts_values, marker='o', linestyle='-', color='blue')\n",
    "plt.xlabel('Temperature')\n",
    "plt.ylabel('Ferromagnetic Count')\n",
    "plt.title('Ferromagnetic Count vs Temperature')\n",
    "plt.grid(True)\n",
    "# Plot vertical lines or markers for potential critical temperatures\n",
    "for temp in max_sum_temperature_interval:\n",
    "    plt.axvline(x=temp, color='red', linestyle='--', label='Potential Critical Temp')\n",
    "# Show the legend\n",
    "plt.legend()\n",
    "# Display the plot\n",
    "plt.show()\n"
   ]
  },
  {
   "cell_type": "code",
   "execution_count": 37,
   "id": "34323832",
   "metadata": {},
   "outputs": [
    {
     "data": {
      "text/plain": [
       "['trained_classifier.pkl']"
      ]
     },
     "execution_count": 37,
     "metadata": {},
     "output_type": "execute_result"
    }
   ],
   "source": [
    "import joblib\n",
    "# Save the trained classifier to a file\n",
    "joblib.dump(clf, 'trained_classifier.pkl')"
   ]
  }
 ],
 "metadata": {
  "kernelspec": {
   "display_name": "Python 3 (ipykernel)",
   "language": "python",
   "name": "python3"
  },
  "language_info": {
   "codemirror_mode": {
    "name": "ipython",
    "version": 3
   },
   "file_extension": ".py",
   "mimetype": "text/x-python",
   "name": "python",
   "nbconvert_exporter": "python",
   "pygments_lexer": "ipython3",
   "version": "3.9.12"
  }
 },
 "nbformat": 4,
 "nbformat_minor": 5
}
